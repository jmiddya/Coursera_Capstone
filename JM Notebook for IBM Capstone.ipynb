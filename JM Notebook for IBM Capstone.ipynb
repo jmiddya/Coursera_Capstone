{
    "nbformat": 4, 
    "nbformat_minor": 1, 
    "cells": [
        {
            "source": "# My Jupyter Notebook for Coursera IBM Capstone", 
            "cell_type": "markdown", 
            "metadata": {
                "collapsed": true
            }
        }, 
        {
            "source": "By **Jagannath Middya**", 
            "cell_type": "markdown", 
            "metadata": {}
        }, 
        {
            "source": "_This notebook will be exclusively used for Coursera IBM Capstone! Excited to do something exciting!!!_", 
            "cell_type": "markdown", 
            "metadata": {}
        }, 
        {
            "source": "#### Let's Import Pandas and Numpy Library", 
            "cell_type": "markdown", 
            "metadata": {}
        }, 
        {
            "execution_count": 4, 
            "outputs": [], 
            "cell_type": "code", 
            "metadata": {}, 
            "source": "import pandas as pd\nimport numpy as np "
        }, 
        {
            "source": "#### Let's print Hello Capstone Project Course!", 
            "cell_type": "markdown", 
            "metadata": {}
        }, 
        {
            "execution_count": 5, 
            "outputs": [
                {
                    "output_type": "stream", 
                    "text": "Hello Capstone Project Course!\n", 
                    "name": "stdout"
                }
            ], 
            "cell_type": "code", 
            "metadata": {}, 
            "source": "print(\"Hello Capstone Project Course!\")"
        }
    ], 
    "metadata": {
        "kernelspec": {
            "name": "python3", 
            "display_name": "Python 3.5 with Spark", 
            "language": "python3"
        }, 
        "language_info": {
            "version": "3.5.4", 
            "file_extension": ".py", 
            "codemirror_mode": {
                "version": 3, 
                "name": "ipython"
            }, 
            "nbconvert_exporter": "python", 
            "mimetype": "text/x-python", 
            "pygments_lexer": "ipython3", 
            "name": "python"
        }
    }
}